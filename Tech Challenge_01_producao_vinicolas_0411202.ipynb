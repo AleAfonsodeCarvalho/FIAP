import pandas as pd
dados_export_vinho_mesa = pd.read_csv('/content/sample_data/ExpVinho.csv', encoding='UTF-8', skiprows=0, sep=';' ,thousands='.', decimal=',') #2ª célula

dados_export_vinho_mesa = dados_export_vinho_mesa.rename(columns={'País': 'pais'})

colunas_renomeadas = {}
for ano in range(1970, 2024):
  colunas_renomeadas[str(ano)] = f"{ano}_quantidade"
  colunas_renomeadas[str(ano) + ".1"] = f"{ano}_valor"

# Renomeando as colunas do DataFrame 'dados_export'
dados_export_vinho_mesa = dados_export_vinho_mesa.rename(columns=colunas_renomeadas)

dados_export_espumantes = pd.read_csv('/content/sample_data/ExpEspumantes.csv', encoding='UTF-8', skiprows=0, sep=';', thousands='.', decimal=',') #2ª célula

dados_export_espumantes = dados_export_espumantes.rename(columns={'País': 'pais'})

colunas_renomeadas = {}
for ano in range(1970, 2024):
  colunas_renomeadas[str(ano)] = f"{ano}_quantidade"
  colunas_renomeadas[str(ano) + ".1"] = f"{ano}_valor"

# Renomeando as colunas do DataFrame 'dados_export'
dados_export_espumantes = dados_export_espumantes.rename(columns=colunas_renomeadas)

dados_export_vinho_mesa['tipo'] = 'Vinho de Mesa'

dados_export_espumantes['tipo'] = 'Espumante'

exportacao_geral = pd.concat([dados_export_vinho_mesa,dados_export_espumantes])

#gráfico de colunas com a tabela exportacao_geral usando a variável  tipo no eixo y e as variáveis de xxx_quantidade considerando os anos de 2009 até 2023. Colocar os valores em milhões e mostra-los no gráfico. Excluir a palavra "quantidade" do eixo x. O eixo x tem que está em 70 graus. Mostrar os valores no gráfico. Excluir a palavra "quantidade" do eixo. Aumentar a fonte do gráfico

import matplotlib.pyplot as plt

# Selecionar os dados dos anos de 2009 a 2023
anos = [str(ano) for ano in range(2009, 2024)]
colunas_quantidade = [ano + '_quantidade' for ano in anos]
dados_grafico = exportacao_geral.groupby('tipo')[colunas_quantidade].sum()

# Converter os valores para milhões
dados_grafico = dados_grafico / 1000000

# Transpor a tabela para ter os anos no eixo x e os tipos no eixo y
dados_grafico = dados_grafico.T

# Criar o gráfico de colunas
ax = dados_grafico.plot(kind='bar', figsize=(9,5), rot=70, fontsize=10)

# Adicionar rótulos e título
plt.xlabel('Ano', fontsize=10)
plt.ylabel('Quantidade (Milhões de litros)', fontsize=10)
plt.title('Exportação de vinhos e espumantes pelo Rio Grande do Sul - Total em litros', fontsize=10)

# Mostrar os valores nas barras
for container in ax.containers:
  ax.bar_label(container, fmt='%.2f', fontsize=10)

# Remover a palavra "quantidade" do eixo x
labels = [label.get_text().replace('_quantidade', '') for label in ax.get_xticklabels()]
ax.set_xticklabels(labels)

# Adicionar legenda
plt.legend(fontsize=10)

# Ajustar o layout do gráfico
plt.tight_layout()

# Mostrar o gráfico
plt.show()

# prompt: Quero gerar um gráfico de colunas com a tabela exportacao_geral usando a variável  tipo no eixo y e as variáveis de xxx_quantidade considerando os anos de 2009 até 2023. Colocar os valores em milhões e mostra-los no gráfico. Excluir a palavra "quantidade" do eixo x. O eixo x tem que está em 70 graus. Mostrar os valores no gráfico. Excluir a palavra "quantidade" do eixo. Aumentar a fonte do gráfico

import matplotlib.pyplot as plt

# Selecionar os dados dos anos de 2009 a 2023
anos = [str(ano) for ano in range(2009, 2024)]
colunas_quantidade = [ano + '_valor' for ano in anos]
dados_grafico = exportacao_geral.groupby('tipo')[colunas_quantidade].sum()

# Converter os valores para milhões
dados_grafico = dados_grafico / 1000000

# Transpor a tabela para ter os anos no eixo x e os tipos no eixo y
dados_grafico = dados_grafico.T

# Criar o gráfico de colunas
ax = dados_grafico.plot(kind='bar', figsize=(9,5), rot=70, fontsize=10)

# Adicionar rótulos e título
plt.xlabel('Ano', fontsize=10)
plt.ylabel('Quantidade (Milhões de Dólares)', fontsize=10)
plt.title('Exportação de vinhos e espumantes pelo Rio Grande do Sul - Receita de dólares', fontsize=10)

# Mostrar os valores nas barras
for container in ax.containers:
  ax.bar_label(container, fmt='%.2f', fontsize=10)

# Remover a palavra "quantidade" do eixo x
labels = [label.get_text().replace('_valor', '') for label in ax.get_xticklabels()]
ax.set_xticklabels(labels)

# Adicionar legenda
plt.legend(fontsize=10)

# Ajustar o layout do gráfico
plt.tight_layout()

# Mostrar o gráfico
plt.show()

# prompt: Quero gerar um gráfico de linha com a tabela exportacao_geral usando a variável  tipo no eixo y e as variáveis de xxx_valor considerando os anos de 2009 até 2023. Colocar os valores em milhões e mostra-los no gráfico. Excluir a palavra "valor" do eixo x. O eixo x tem que está em 70 graus. Mostrar os valores no gráfico. Excluir a palavra "quantidade" do eixo. Colocar uma linha que mostra a variação percentual de um mês para o outro.

import pandas as pd
import matplotlib.pyplot as plt

# ... (seu código existente para carregar e preparar os dados) ...


# Selecionar os dados dos anos de 2009 a 2023 para valores
anos = [str(ano) for ano in range(2009, 2024)]
colunas_valor = [ano + '_valor' for ano in anos]
dados_grafico = exportacao_geral[colunas_valor].sum()

# Converter os valores para milhões
dados_grafico = dados_grafico / 1000000

# Transpor a tabela para ter os anos no eixo x e os tipos no eixo y
dados_grafico = dados_grafico.T

# Criar o gráfico de linha
ax = dados_grafico.plot(kind='line', figsize=(12, 6), rot=70, fontsize=10, marker='o')

# Adicionar rótulos e título
plt.xlabel('Ano', fontsize=10)
plt.ylabel('Valor (Milhões de dólares)', fontsize=10)
plt.title('Exportação de vinhos e espumantes pelo Rio Grande do Sul - Valor em dólares', fontsize=12)


# Mostrar os valores no gráfico
for line in ax.lines:
  for x, y in zip(line.get_xdata(), line.get_ydata()):
    ax.annotate(f'{y:.2f}', (x, y), textcoords="offset points", xytext=(0, 10), ha='center', fontsize=10)

# Remover a palavra "valor" do eixo x
labels = [label.get_text().replace('_valor', '') for label in ax.get_xticklabels()]
ax.set_xticklabels(labels)


# Adicionar legenda
plt.legend(fontsize=10)

# Ajustar o layout do gráfico
plt.tight_layout()

# Mostrar o gráfico
plt.show()

# prompt: Quero gerar um gráfico de linha com a tabela exportacao_geral usando a variável  tipo no eixo y e as variáveis de xxx_valor considerando os anos de 2009 até 2023. Colocar os valores em milhões e mostra-los no gráfico. Excluir a palavra "valor" do eixo x. O eixo x tem que está em 70 graus. Mostrar os valores no gráfico. Excluir a palavra "quantidade" do eixo. Colocar uma linha que mostra a variação percentual de um mês para o outro.

import pandas as pd
import matplotlib.pyplot as plt

# ... (seu código existente para carregar e preparar os dados) ...


# Selecionar os dados dos anos de 2009 a 2023 para valores
anos = [str(ano) for ano in range(2009, 2024)]
colunas_valor = [ano + '_quantidade' for ano in anos]
dados_grafico = exportacao_geral[colunas_valor].sum()

# Converter os valores para milhões
dados_grafico = dados_grafico / 1000000

# Transpor a tabela para ter os anos no eixo x e os tipos no eixo y
dados_grafico = dados_grafico.T

# Criar o gráfico de linha
ax = dados_grafico.plot(kind='line', figsize=(12, 6), rot=70, fontsize=10, marker='o')

# Adicionar rótulos e título
plt.xlabel('Ano', fontsize=10)
plt.ylabel('Valor (Milhões de litros)', fontsize=10)
plt.title('Exportação de vinhos e espumantes pelo Rio Grande do Sul - Total em litros', fontsize=12)


# Mostrar os valores no gráfico
for line in ax.lines:
  for x, y in zip(line.get_xdata(), line.get_ydata()):
    ax.annotate(f'{y:.2f}', (x, y), textcoords="offset points", xytext=(0, 10), ha='center', fontsize=10)

# Remover a palavra "valor" do eixo x
labels = [label.get_text().replace('_quantidade', '') for label in ax.get_xticklabels()]
ax.set_xticklabels(labels)


# Adicionar legenda
plt.legend(fontsize=10)

# Ajustar o layout do gráfico
plt.tight_layout()

# Mostrar o gráfico
plt.show()

# prompt: Quero gerar um gráfico de colunas empilhada com o % total com a tabela exportacao_geral usando a variável  tipo no eixo y e as variáveis de xxx_quantidade considerando os anos de 2009 até 2023. Colocar os valores em milhões e mostra-los no gráfico. Excluir a palavra "quantidade" do eixo x. O eixo x tem que está em 70 graus. Mostrar os valores em % no gráfico. Excluir a palavra "quantidade" do eixo. Aumentar a fonte do gráfico

# ... (seu código existente para carregar e preparar os dados) ...

# Selecionar os dados dos anos de 2009 a 2023
anos = [str(ano) for ano in range(2009, 2024)]
colunas_quantidade = [ano + '_quantidade' for ano in anos]

# Agrupar os dados por tipo e somar as quantidades para cada ano
dados_grafico = exportacao_geral.groupby('tipo')[colunas_quantidade].sum()

# Converter os valores para milhões
dados_grafico = dados_grafico / 1000000

# Calcular o percentual total para cada ano
total_por_ano = dados_grafico.sum(axis=0)
percentuais = dados_grafico.div(total_por_ano, axis=1) * 100

# Transpor a tabela para ter os anos no eixo x e os tipos no eixo y
percentuais = percentuais.T

# Criar o gráfico de colunas empilhadas
ax = percentuais.plot(kind='bar', stacked=True, figsize=(9,5), rot=70, fontsize=10)

# Adicionar rótulos e título
plt.xlabel('Ano', fontsize=10)
plt.ylabel('Percentual (%) - Participação por milhões de litros', fontsize=10)
plt.title('Exportação de vinhos e espumantes pelo Rio Grande do Sul - Percentual por tipo', fontsize=10)

# Mostrar os valores nas barras
for container in ax.containers:
  ax.bar_label(container, fmt='%.1f%%', label_type='center', fontsize=10)

# Remover a palavra "quantidade" do eixo x
labels = [label.get_text().replace('_quantidade', '') for label in ax.get_xticklabels()]
ax.set_xticklabels(labels)

# Adicionar legenda
plt.legend(fontsize=12, loc='upper left')

# Ajustar o layout do gráfico
plt.tight_layout()

# Mostrar o gráfico
plt.show()

# prompt: Quero gerar um gráfico de colunas empilhada com o % total com a tabela exportacao_geral usando a variável  tipo no eixo y e as variáveis de xxx_quantidade considerando os anos de 2009 até 2023. Colocar os valores em milhões e mostra-los no gráfico. Excluir a palavra "quantidade" do eixo x. O eixo x tem que está em 70 graus. Mostrar os valores em % no gráfico. Excluir a palavra "quantidade" do eixo. Aumentar a fonte do gráfico

# ... (seu código existente para carregar e preparar os dados) ...

# Selecionar os dados dos anos de 2009 a 2023
anos = [str(ano) for ano in range(2009, 2024)]
colunas_quantidade = [ano + '_valor' for ano in anos]

# Agrupar os dados por tipo e somar as quantidades para cada ano
dados_grafico = exportacao_geral.groupby('tipo')[colunas_quantidade].sum()

# Converter os valores para milhões
dados_grafico = dados_grafico / 1000000

# Calcular o percentual total para cada ano
total_por_ano = dados_grafico.sum(axis=0)
percentuais = dados_grafico.div(total_por_ano, axis=1) * 100

# Transpor a tabela para ter os anos no eixo x e os tipos no eixo y
percentuais = percentuais.T

# Criar o gráfico de colunas empilhadas
ax = percentuais.plot(kind='bar', stacked=True, figsize=(9,5), rot=70, fontsize=10)

# Adicionar rótulos e título
plt.xlabel('Ano', fontsize=10)
plt.ylabel('Percentual (%) - Participação por faturamento em milhões de dólares', fontsize=10)
plt.title('Exportação de vinhos e espumantes pelo Rio Grande do Sul - Percentual por tipo', fontsize=10)

# Mostrar os valores nas barras
for container in ax.containers:
  ax.bar_label(container, fmt='%.1f%%', label_type='center', fontsize=10)

# Remover a palavra "quantidade" do eixo x
labels = [label.get_text().replace('_valor', '') for label in ax.get_xticklabels()]
ax.set_xticklabels(labels)

# Adicionar legenda
plt.legend(fontsize=12, loc='upper left')

# Ajustar o layout do gráfico
plt.tight_layout()

# Mostrar o gráfico
plt.show()

# prompt: Colocar uma coluna de continente na base exportacao_geral

# ... (seu código existente para carregar e preparar os dados) ...

# Criar um dicionário de países e seus continentes
continentes = {
    'África do Sul': 'África',
    'Alemanha': 'Europa Ocidental',
    'Angola': 'África',
    'Antigua e Barbuda': 'América Central',
    'Antilhas Holandesas': 'América Central',
    'Argentina': 'América do Sul',
    'Aruba': 'América Central',
    'Austrália': 'Oceania',
    'Bahamas': 'América Central',
    'Bangladesh': 'Ásia',
    'Barbados': 'América Central',
    'Bélgica': 'Europa Ocidental',
    'Benin': 'África',
    'Bermudas': 'América do Norte',
    'Bolívia': 'América do Sul',
    'Bósnia-Herzegovina': 'Europa Oriental',
    'Bulgária': 'Europa Oriental',
    'Cabo Verde': 'África',
    'Camarões': 'África',
    'Canadá': 'América do Norte',
    'Catar': 'Ásia',
    'Ilhas Cayman': 'América Central',
    'Chile': 'América do Sul',
    'China': 'Ásia',
    'Chipre': 'Ásia',
    'Cingapura': 'Ásia',
    'Colômbia': 'América do Sul',
    'Coreia do Sul': 'Ásia',
    'Costa Rica': 'América Central',
    'Cuba': 'América Central',
    'Curaçao': 'América Central',
    'Dinamarca': 'Europa Setentrional',
    'Dominica': 'América Central',
    'El Salvador': 'América Central',
    'Emirados Árabes Unidos': 'Ásia',
    'Equador': 'América do Sul',
    'Espanha': 'Europa Ocidental',
    'Estados Unidos': 'América do Norte',
    'Estônia': 'Europa Setentrional',
    'Falkland (Malvinas)': 'América do Sul',
    'Filipinas': 'Ásia',
    'Finlândia': 'Europa Setentrional',
    'França': 'Europa Ocidental',
    'Gana': 'África',
    'Gibraltar': 'Europa Ocidental',
    'Granada': 'América Central',
    'Grécia': 'Europa Ocidental',
    'Guatemala': 'América Central',
    'Guiana': 'América do Sul',
    'Guiné Equatorial': 'África',
    'Guiné-Bissau': 'África',
    'Haiti': 'América Central',
    'Honduras': 'América Central',
    'Hong Kong': 'Ásia',
    'Hungria': 'Europa Oriental',
    'Ilha de Man': 'Europa Ocidental',
    'Índia': 'Ásia',
    'Iraque': 'Ásia',
    'Irlanda': 'Europa Ocidental',
    'Islândia': 'Europa Setentrional',
    'Itália': 'Europa Ocidental',
    'Japão': 'Ásia',
    'Jordânia': 'Ásia',
    'Letônia': 'Europa Setentrional',
    'Líbano': 'Ásia',
    'Libéria': 'África',
    'Luxemburgo': 'Europa Ocidental',
    'Maldivas': 'Ásia',
    'Malta': 'Europa Ocidental',
    'Ilhas Marshall': 'Oceania',
    'Montenegro': 'Europa Oriental',
    'México': 'América do Norte',
    'Nicarágua': 'América Central',
    'Nigéria': 'África',
    'Noruega': 'Europa Setentrional',
    'Nova Zelândia': 'Oceania',
    'Países Baixos (Holanda)': 'Europa Ocidental',
    'Panamá': 'América Central',
    'Paraguai': 'América do Sul',
    'Peru': 'América do Sul',
    'Polônia': 'Europa Oriental',
    'Porto Rico': 'América Central',
    'Portugal': 'Europa Ocidental',
    'Quênia': 'África',
    'Reino Unido': 'Europa Ocidental',
    'República Dominicana': 'América Central',
    'República Tcheca': 'Europa Oriental',
    'Rússia': 'Europa Oriental',
    'Serra Leoa': 'África',
    'Singapura': 'Ásia',
    'Suécia': 'Europa Setentrional',
    'Suíça': 'Europa Ocidental',
    'Suriname': 'América do Sul',
    'Tailândia': 'Ásia',
    'Taiwan (Formosa)': 'Ásia',
    'Trinidade e Tobago': 'América Central',
    'Turquia': 'Europa Oriental',
    'Uruguai': 'América do Sul',
    'Vanuatu': 'Oceania',
    'Venezuela': 'América do Sul',
    'Vietnã': 'Ásia'
}


# Adicionar a coluna "continente" à tabela exportacao_geral
exportacao_geral['continente'] = exportacao_geral['pais'].map(continentes)

# Exibir a tabela atualizada
exportacao_geral

# prompt: Atualizar a informação de da variável pais de "Alemanha, República Democrática" para "Alemanha"

# Atualizar a informação de da variável pais de "Alemanha, República Democrática" para "Alemanha"
exportacao_geral['pais'] = exportacao_geral['pais'].replace('Alemanha, República Democrática', 'Alemanha')

import matplotlib.pyplot as plt

# Selecionar os dados dos anos de 2009 a 2023
anos = [str(ano) for ano in range(2009, 2024)]
colunas_quantidade = [ano + '_quantidade' for ano in anos]
dados_grafico = exportacao_geral.groupby('continente')[colunas_quantidade].sum()

# Converter os valores para milhões
dados_grafico = dados_grafico / 1000000

# Transpor a tabela para ter os anos no eixo x e os tipos no eixo y
dados_grafico = dados_grafico.T

# Criar o gráfico de colunas
ax = dados_grafico.plot(kind='bar', figsize=(9,5), rot=70, fontsize=10)

# Adicionar rótulos e título
plt.xlabel('Ano', fontsize=10)
plt.ylabel('Quantidade (Milhões de litros)', fontsize=10)
plt.title('Exportação de vinhos e espumantes pelo Rio Grande do Sul - Visão continente - Total em litros', fontsize=10)

# Mostrar os valores nas barras
for container in ax.containers:
  ax.bar_label(container, fmt='%.2f', fontsize=10)

# Remover a palavra "quantidade" do eixo x
labels = [label.get_text().replace('_quantidade', '') for label in ax.get_xticklabels()]
ax.set_xticklabels(labels)

# Adicionar legenda
plt.legend(fontsize=10)

# Ajustar o layout do gráfico
plt.tight_layout()

# Mostrar o gráfico
plt.show()

# prompt: Criar uma base com as variáveis pais, continente e tipo e somar os valores de 2009_quantidade até 2013_quantidade. Chamar essa ultima variável de total_quantidade. somar os valors de 2009_valor até 2023_valor. Chamar essa variável de total_valor.

# Criar uma nova base com as variáveis pais, continente e tipo
base_agrupada = exportacao_geral[['pais', 'continente', 'tipo']]

# Somar os valores de 2009_quantidade até 2023_quantidade
anos_quantidade = [str(ano) + '_quantidade' for ano in range(2009, 2024)]
base_agrupada['total_quantidade'] = exportacao_geral[anos_quantidade].sum(axis=1)

# Somar os valores de 2009_valor até 2023_valor
anos_valor = [str(ano) + '_valor' for ano in range(2009, 2024)]
base_agrupada['total_valor'] = exportacao_geral[anos_valor].sum(axis=1)

# Exibir a nova base
base_agrupada

# prompt: Gráfico de barra com a base base_agrupada com as informações de continente e tipo. Os valores de continente devem estar no eixo x Os valores devem vir da variável total_quantidade na ordem decrescente. Mostrar os valores e milhões no gráfico

# ... (seu código existente para carregar e preparar os dados) ...

# Agrupar os dados por continente e tipo e somar a quantidade total
dados_grafico = base_agrupada.groupby(['continente', 'tipo'])['total_quantidade'].sum().sort_values(ascending=False)

# Converter os valores para milhões
dados_grafico = dados_grafico / 1000000

# Criar o gráfico de barras
ax = dados_grafico.unstack().plot(kind='bar', figsize=(12, 6), rot=45, fontsize=10)

# Adicionar rótulos e título
plt.xlabel('Continente', fontsize=12)
plt.ylabel('Quantidade (Milhões de litros)', fontsize=12)
plt.title('Exportação de Vinhos e Espumantes por Continente e Tipo (2009-2013)', fontsize=14)

# Mostrar os valores nas barras
for container in ax.containers:
    ax.bar_label(container, fmt='%.2f', fontsize=10)

# Ajustar o layout do gráfico
plt.tight_layout()

# Mostrar o gráfico
plt.show()

# prompt: Gráfico de barra com a base base_agrupada com as informações de continente e tipo. Os valores de continente devem estar no eixo x Os valores devem vir da variável total_quantidade na ordem decrescente. Mostrar os valores e milhões no gráfico

# ... (seu código existente para carregar e preparar os dados) ...

# Agrupar os dados por continente e tipo e somar a quantidade total
dados_grafico = base_agrupada.groupby(['continente', 'tipo'])['total_valor'].sum().sort_values(ascending=False)

# Converter os valores para milhões
dados_grafico = dados_grafico / 1000000

# Criar o gráfico de barras
ax = dados_grafico.unstack().plot(kind='bar', figsize=(12, 6), rot=45, fontsize=10)

# Adicionar rótulos e título
plt.xlabel('Continente', fontsize=12)
plt.ylabel('Quantidade (Milhões de dólares)', fontsize=12)
plt.title('Exportação de Vinhos e Espumantes por Continente e Tipo (2009-2013)', fontsize=14)

# Mostrar os valores nas barras
for container in ax.containers:
    ax.bar_label(container, fmt='%.2f', fontsize=10)

# Ajustar o layout do gráfico
plt.tight_layout()

# Mostrar o gráfico
plt.show()

# prompt: Gráfico de barra empihada com a base base_agrupada com as informações de continente e tipo com o % total. Os valores de participação percentual continente devem estar no eixo x Os valores devem vir da variável total_quantidade na ordem decrescente. Mostrar os valores e milhões no gráfico. Ordenar em ordem decrescente. A legenda deve ficar na parte externa do gráfico. Corrigir o label do eixo y que está duplicado

# ... (seu código existente para carregar e preparar os dados) ...

# Agrupar os dados por continente e tipo e somar a quantidade total
dados_grafico = base_agrupada.groupby(['continente','tipo'])['total_quantidade'].sum().sort_values(ascending=False)

# Calcular o percentual total para cada continente
total_por_continente = dados_grafico.groupby('continente').sum()
percentuais = dados_grafico / total_por_continente * 100


# Criar o gráfico de barras empilhadas
ax = percentuais.unstack().plot(kind='bar', stacked=True, figsize=(12, 6), rot=45, fontsize=10)

# Adicionar rótulos e título
plt.xlabel('Continente', fontsize=12)
plt.ylabel('Percentual (%)', fontsize=12)
plt.title('Exportação de Vinhos e Espumantes por Continente (2009-2023)', fontsize=14)

# Mostrar os valores nas barras
for container in ax.containers:
    ax.bar_label(container, fmt='%.1f%%', label_type='center', fontsize=8)

# Ajustar o layout do gráfico
plt.legend(bbox_to_anchor=(1.05, 1), loc='upper left', fontsize=10)  # Posiciona a legenda fora do gráfico
plt.tight_layout()

# Mostrar o gráfico
plt.show()

# prompt: Gráfico de barra empihada com a base base_agrupada com as informações de continente e tipo com o % total. Os valores de participação percentual continente devem estar no eixo x Os valores devem vir da variável total_quantidade na ordem decrescente. Mostrar os valores e milhões no gráfico. Ordenar em ordem decrescente. A legenda deve ficar na parte externa do gráfico

# ... (seu código existente para carregar e preparar os dados) ...

# Agrupar os dados por continente e tipo e somar a quantidade total
dados_grafico = base_agrupada.groupby(['continente', 'tipo'])['total_valor'].sum().sort_values(ascending=False)

# Converter os valores para milhões
dados_grafico = dados_grafico / 1000000

# Calcular o percentual total para cada continente
total_por_continente = dados_grafico.groupby('continente').sum()
percentuais = dados_grafico.groupby('continente').apply(lambda x: (x / total_por_continente.loc[x.name]) * 100)

# Criar o gráfico de barras empilhadas
ax = percentuais.unstack().plot(kind='bar', stacked=True, figsize=(12, 6), rot=45, fontsize=10)

# Adicionar rótulos e título
plt.xlabel('Continente', fontsize=12)
plt.ylabel('Percentual (%)', fontsize=12)
plt.title('Participação da Exportação de Vinhos e Espumantes por Continente (2009-2023) - ', fontsize=10)

# Mostrar os valores nas barras
for container in ax.containers:
    ax.bar_label(container, fmt='%.1f%%', label_type='center', fontsize=10)

# Ajustar o layout do gráfico
plt.tight_layout()

# Colocar a legenda fora do gráfico
plt.legend(bbox_to_anchor=(1.05, 1), loc='upper left', fontsize=10)

# Mostrar o gráfico
plt.show()

filtered_data = base_agrupada[base_agrupada['continente'].isin(['Europa Oriental', 'Europa Ocidental', 'América do Sul', 'América do Norte'])]

# Group by 'pais' and calculate sum of 'total_quantidade' and 'total_valor'
dados_grafico = filtered_data.groupby(['pais'])[['total_quantidade', 'total_valor']].sum().sort_values(by=['total_quantidade'], ascending=False)

# Converter os valores para milhões
dados_grafico['total_quantidade'] = dados_grafico['total_quantidade'] / 1000000
dados_grafico['total_valor'] = dados_grafico['total_valor'] / 1000000

# Criar o gráfico de barras
fig, ax1 = plt.subplots(figsize=(10, 6))

# Barras para 'total_quantidade'
ax1.bar(dados_grafico.index, dados_grafico['total_quantidade'], color='blue', label='Quantidade (Milhões de litros)')
ax1.set_xlabel('Pais', fontsize=12)
ax1.set_ylabel('Quantidade (Milhões de litros)', fontsize=12, color='black')
ax1.tick_params(axis='y', labelcolor='blue')
plt.xticks(rotation=90, fontsize=10)  # Rotacionar os rótulos do eixo x

# Adicionar rótulos de dados nas barras
for container in ax1.containers:
    ax1.bar_label(container, fmt='%.2f', fontsize=10)

# Criar um segundo eixo y para 'total_valor' (linha)
ax2 = ax1.twinx()
ax2.plot(dados_grafico.index, dados_grafico['total_valor'], color='Black', label='Valor Total (Milhões de reais)')
ax2.set_ylabel('Valor Total (Milhões de reais)', fontsize=12, color='Black')
ax2.tick_params(axis='y', labelcolor='Black')

# Adicionar título e legenda
plt.title('Exportação de Vinhos e Espumantes por região - Principais parceiros (2009 - 2013)', fontsize=14)
plt.legend(loc='best') # Movendo a legenda para cima e à esquerda

# Ajustar o layout do gráfico
plt.tight_layout()

# Mostrar o gráfico
plt.show()

# prompt: Usando a tabela exportacao_geral, poderia gerar um gráfico de dispersão segregando pela variável tipo

import matplotlib.pyplot as plt

# ... (seu código existente para carregar e preparar os dados) ...

# Agrupar os dados por tipo e criar um gráfico de dispersão para cada tipo
for tipo in exportacao_geral['tipo'].unique():
  dados_tipo = exportacao_geral[exportacao_geral['tipo'] == tipo]

  # Criar o gráfico de dispersão
  plt.figure(figsize=(8, 6))
  plt.scatter(dados_tipo['2023_quantidade'], dados_tipo['2023_valor'], label=tipo, alpha=0.7)
  plt.xlabel('Quantidade em 2023', fontsize=12)
  plt.ylabel('Valor em 2023', fontsize=12)
  plt.title(f'Gráfico de Dispersão de Quantidade vs Valor (2023) - {tipo}', fontsize=14)
  plt.legend()
  plt.grid(True)
  plt.tight_layout()
  plt.show()
